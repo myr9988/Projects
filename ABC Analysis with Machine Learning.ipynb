{
 "cells": [
  {
   "cell_type": "markdown",
   "id": "a5287a38",
   "metadata": {},
   "source": [
    "ABC analysis assumes that income-generating items in an inventory follow a Pareto distribution, where a very small percentage of items generate the most income. In this project, I’ll walk you through how we can perform ABC analysis with Machine Learning."
   ]
  },
  {
   "cell_type": "markdown",
   "id": "b1211fe4",
   "metadata": {},
   "source": [
    "### Conventions of ABC Analysis\n",
    "Using the conventions of ABC analysis, an inventory item is assigned a letter based on its importance:\n",
    "\n",
    "- A articles represent 20% of articles, but contribute 70% of revenue\n",
    "- B articles represent 30% of articles, but contribute 25% of revenue\n",
    "- C articles represent 50% of articles, but contribute 5% of revenue\n",
    "\n",
    "Keep in mind that these numbers are approximate and will vary widely depending on the actual distribution of sales. The main takeaway is that A items make up a small percentage of inventory but contribute the most to income, C items make up a large percentage of inventory but contribute the least to income and B items are somewhere around leaves in the middle."
   ]
  },
  {
   "cell_type": "markdown",
   "id": "280c78df",
   "metadata": {},
   "source": [
    "### Importance of ABC Analysis\n",
    "Inventory planning and warehousing strategies of an organization rely on ABC analysis to make any key decisions. For example, a warehouse manager typically wants A items closest to the shipping docks to reduce the time it takes to pick them up. This increases productivity and reduces labour costs."
   ]
  },
  {
   "cell_type": "markdown",
   "id": "0117d385",
   "metadata": {},
   "source": [
    "### ABC Analysis with Machine Learning\n",
    "The data used in this project comes from a popular online retailer dataset. The dataset only includes online sales of clothing throughout the summer. More importantly, it shows the number of units sold and the price sold, which will generate the revenue per item.\n",
    "\n",
    "The goal of this project is to sort all the elements of the dataset into an ABC categorization based on their importance. When viewing the results, there should be relatively few A items that generate the majority of income and a large number of C items that do not generate much income."
   ]
  },
  {
   "cell_type": "markdown",
   "id": "16405b8c",
   "metadata": {},
   "source": [
    "### Data Preparation\n",
    "Now, let’s get started with this task with data preparation. I will start this off by importing the necessary packages and reading the dataset:"
   ]
  },
  {
   "cell_type": "code",
   "execution_count": 1,
   "id": "455937d4",
   "metadata": {},
   "outputs": [],
   "source": [
    "# Import libraries\n",
    "import pandas as pd\n",
    "import numpy as np\n",
    "# read the data to a dataframe\n",
    "df = pd.read_csv(r\"C:\\Users\\SHREE\\Downloads\\Python CODES\\ABC Analysis with Machine Learning\\Summer Sales.csv\")"
   ]
  },
  {
   "cell_type": "markdown",
   "id": "6051cfd6",
   "metadata": {},
   "source": [
    "I will add a new column to the data for revenue by simply multiplying the number of units sold by the price. It is possible that the price has changed over time, especially when flash sales have taken place, but without additional data to analyze, it is assumed that all items sold at a single, stable price:"
   ]
  },
  {
   "cell_type": "code",
   "execution_count": 2,
   "id": "5a8308ca",
   "metadata": {},
   "outputs": [],
   "source": [
    "df[\"revenue\"] = df[\"units_sold\"] * df[\"price\"]"
   ]
  },
  {
   "cell_type": "markdown",
   "id": "16d42204",
   "metadata": {},
   "source": [
    "Now, lets visualize the revenue by using the seaborn package in python:"
   ]
  },
  {
   "cell_type": "code",
   "execution_count": 3,
   "id": "69a6c36e",
   "metadata": {},
   "outputs": [
    {
     "name": "stderr",
     "output_type": "stream",
     "text": [
      "C:\\Users\\SHREE\\anaconda3\\lib\\site-packages\\seaborn\\distributions.py:2619: FutureWarning: `distplot` is a deprecated function and will be removed in a future version. Please adapt your code to use either `displot` (a figure-level function with similar flexibility) or `histplot` (an axes-level function for histograms).\n",
      "  warnings.warn(msg, FutureWarning)\n"
     ]
    },
    {
     "data": {
      "text/plain": [
       "<AxesSubplot:xlabel='revenue', ylabel='Density'>"
      ]
     },
     "execution_count": 3,
     "metadata": {},
     "output_type": "execute_result"
    },
    {
     "data": {
      "image/png": "[encoded data removed]",
      "text/plain": [
       "<Figure size 432x288 with 1 Axes>"
      ]
     },
     "metadata": {
      "needs_background": "light"
     },
     "output_type": "display_data"
    }
   ],
   "source": [
    "import seaborn as sns\n",
    "sns.distplot(df[\"revenue\"])"
   ]
  },
  {
   "cell_type": "markdown",
   "id": "f28ac041",
   "metadata": {},
   "source": [
    "The graph above shows the Pareto distribution found in the data. The vast majority of articles generate less than € 200,000 in sales. At the same time, it shows that some of the items sell for between € 400,000 and € 800,000, which is contributing in the majority of the revenue.\n",
    "\n",
    "Now, I’m going to define a function to categorize the amount of income generated by an item into bins, and then I’ll apply it to the data:"
   ]
  },
  {
   "cell_type": "code",
   "execution_count": 10,
   "id": "8a079e68",
   "metadata": {},
   "outputs": [],
   "source": [
    "def bins(x):\n",
    "    for bar in range(20000, 820000, 20000):\n",
    "        if x <= bar:\n",
    "            return bar\n",
    "# Create new column to apply the bin function\n",
    "df[\"rev_dist\"] = df[\"revenue\"].apply(lambda x: bins(x))"
   ]
  },
  {
   "cell_type": "markdown",
   "id": "6fb1fdc9",
   "metadata": {},
   "source": [
    "Now I’m going to create a pivot table to list the number of items that fall into each category:"
   ]
  },
  {
   "cell_type": "code",
   "execution_count": 11,
   "id": "6c4099cd",
   "metadata": {},
   "outputs": [],
   "source": [
    "df[\"count\"] = 1\n",
    "# Create a pivot table of the revenue distributions\n",
    "pivot_table = pd.pivot_table(df, index = [\"rev_dist\"], values = [\"count\"], aggfunc = np.sum)"
   ]
  },
  {
   "cell_type": "markdown",
   "id": "357071e2",
   "metadata": {},
   "source": [
    "### Applying Machine Learning Algorithm\n",
    "To properly train the model, it is not enough to just look at the income generated by each item. He must also know how income is distributed. This pivot table provides a very manageable data set that the model can train on. I will use the K-Means Clustering algorithm for this task of ABC Analysis:"
   ]
  },
  {
   "cell_type": "code",
   "execution_count": 12,
   "id": "64cdfa49",
   "metadata": {},
   "outputs": [
    {
     "data": {
      "text/plain": [
       "KMeans(n_clusters=3)"
      ]
     },
     "execution_count": 12,
     "metadata": {},
     "output_type": "execute_result"
    }
   ],
   "source": [
    "# import model from SKLearn\n",
    "from sklearn.cluster import KMeans\n",
    "# K -clusters is equal to 3 because things will be sorted into A, B, and C\n",
    "kmeans = KMeans(n_clusters=3)\n",
    "kmeans.fit(pivot_table)"
   ]
  },
  {
   "cell_type": "markdown",
   "id": "67f8ce6e",
   "metadata": {},
   "source": [
    "I will now add a new column to the pivot table giving the classification of the model. It should be noted that by default, scikit-learn’s K-means algorithm will rank items on a numeric scale instead of the alphabetical scale used in the ABC analysis. Therefore, each row will be labelled as zero, one, or two:"
   ]
  },
  {
   "cell_type": "code",
   "execution_count": 13,
   "id": "53b8b3a2",
   "metadata": {},
   "outputs": [],
   "source": [
    "pivot_table[\"category\"] = kmeans.labels_"
   ]
  },
  {
   "cell_type": "markdown",
   "id": "5240f663",
   "metadata": {},
   "source": [
    "Now, I will define a new dictionary to classify each row for the task of ABC analysis:"
   ]
  },
  {
   "cell_type": "code",
   "execution_count": 14,
   "id": "b6b33fd5",
   "metadata": {},
   "outputs": [],
   "source": [
    "ABC_dict = {    \n",
    "    0: \"A\",\n",
    "    1: \"C\",\n",
    "    2: \"B\"\n",
    "}\n",
    "pivot_table[\"ABC\"] = pivot_table[\"category\"].apply(lambda x: ABC_dict[x])"
   ]
  },
  {
   "cell_type": "markdown",
   "id": "280e7dd3",
   "metadata": {},
   "source": [
    "Now, remember that the model was trained on a pivot table. The elements have not yet been assigned an ABC classification. Instead, it was assigned an income classification:"
   ]
  },
  {
   "cell_type": "code",
   "execution_count": 16,
   "id": "2cbebfce",
   "metadata": {},
   "outputs": [
    {
     "data": {
      "text/html": [
       "<div>\n",
       "<style scoped>\n",
       "    .dataframe tbody tr th:only-of-type {\n",
       "        vertical-align: middle;\n",
       "    }\n",
       "\n",
       "    .dataframe tbody tr th {\n",
       "        vertical-align: top;\n",
       "    }\n",
       "\n",
       "    .dataframe thead th {\n",
       "        text-align: right;\n",
       "    }\n",
       "</style>\n",
       "<table border=\"1\" class=\"dataframe\">\n",
       "  <thead>\n",
       "    <tr style=\"text-align: right;\">\n",
       "      <th></th>\n",
       "      <th>title</th>\n",
       "      <th>title_orig</th>\n",
       "      <th>price</th>\n",
       "      <th>retail_price</th>\n",
       "      <th>currency_buyer</th>\n",
       "      <th>units_sold</th>\n",
       "      <th>uses_ad_boosts</th>\n",
       "      <th>rating</th>\n",
       "      <th>rating_count</th>\n",
       "      <th>rating_five_count</th>\n",
       "      <th>...</th>\n",
       "      <th>crawl_month</th>\n",
       "      <th>revenue</th>\n",
       "      <th>rev_dist</th>\n",
       "      <th>count_x</th>\n",
       "      <th>count_y</th>\n",
       "      <th>category_x</th>\n",
       "      <th>ABC_x</th>\n",
       "      <th>count</th>\n",
       "      <th>category_y</th>\n",
       "      <th>ABC_y</th>\n",
       "    </tr>\n",
       "  </thead>\n",
       "  <tbody>\n",
       "    <tr>\n",
       "      <th>0</th>\n",
       "      <td>2020 Summer Vintage Flamingo Print  Pajamas Se...</td>\n",
       "      <td>2020 Summer Vintage Flamingo Print  Pajamas Se...</td>\n",
       "      <td>16.00</td>\n",
       "      <td>14</td>\n",
       "      <td>EUR</td>\n",
       "      <td>100</td>\n",
       "      <td>0</td>\n",
       "      <td>3.76</td>\n",
       "      <td>54</td>\n",
       "      <td>26.0</td>\n",
       "      <td>...</td>\n",
       "      <td>2020-08</td>\n",
       "      <td>1600.0</td>\n",
       "      <td>20000</td>\n",
       "      <td>1</td>\n",
       "      <td>1072</td>\n",
       "      <td>1</td>\n",
       "      <td>C</td>\n",
       "      <td>1072</td>\n",
       "      <td>1</td>\n",
       "      <td>C</td>\n",
       "    </tr>\n",
       "    <tr>\n",
       "      <th>1</th>\n",
       "      <td>SSHOUSE Summer Casual Sleeveless Soirée Party ...</td>\n",
       "      <td>Women's Casual Summer Sleeveless Sexy Mini Dress</td>\n",
       "      <td>8.00</td>\n",
       "      <td>22</td>\n",
       "      <td>EUR</td>\n",
       "      <td>20000</td>\n",
       "      <td>1</td>\n",
       "      <td>3.45</td>\n",
       "      <td>6135</td>\n",
       "      <td>2269.0</td>\n",
       "      <td>...</td>\n",
       "      <td>2020-08</td>\n",
       "      <td>160000.0</td>\n",
       "      <td>160000</td>\n",
       "      <td>1</td>\n",
       "      <td>28</td>\n",
       "      <td>0</td>\n",
       "      <td>A</td>\n",
       "      <td>28</td>\n",
       "      <td>0</td>\n",
       "      <td>A</td>\n",
       "    </tr>\n",
       "    <tr>\n",
       "      <th>2</th>\n",
       "      <td>2020 Nouvelle Arrivée Femmes Printemps et Été ...</td>\n",
       "      <td>2020 New Arrival Women Spring and Summer Beach...</td>\n",
       "      <td>8.00</td>\n",
       "      <td>43</td>\n",
       "      <td>EUR</td>\n",
       "      <td>100</td>\n",
       "      <td>0</td>\n",
       "      <td>3.57</td>\n",
       "      <td>14</td>\n",
       "      <td>5.0</td>\n",
       "      <td>...</td>\n",
       "      <td>2020-08</td>\n",
       "      <td>800.0</td>\n",
       "      <td>20000</td>\n",
       "      <td>1</td>\n",
       "      <td>1072</td>\n",
       "      <td>1</td>\n",
       "      <td>C</td>\n",
       "      <td>1072</td>\n",
       "      <td>1</td>\n",
       "      <td>C</td>\n",
       "    </tr>\n",
       "    <tr>\n",
       "      <th>3</th>\n",
       "      <td>Hot Summer Cool T-shirt pour les femmes Mode T...</td>\n",
       "      <td>Hot Summer Cool T Shirt for Women Fashion Tops...</td>\n",
       "      <td>8.00</td>\n",
       "      <td>8</td>\n",
       "      <td>EUR</td>\n",
       "      <td>5000</td>\n",
       "      <td>1</td>\n",
       "      <td>4.03</td>\n",
       "      <td>579</td>\n",
       "      <td>295.0</td>\n",
       "      <td>...</td>\n",
       "      <td>2020-08</td>\n",
       "      <td>40000.0</td>\n",
       "      <td>40000</td>\n",
       "      <td>1</td>\n",
       "      <td>120</td>\n",
       "      <td>2</td>\n",
       "      <td>B</td>\n",
       "      <td>120</td>\n",
       "      <td>2</td>\n",
       "      <td>B</td>\n",
       "    </tr>\n",
       "    <tr>\n",
       "      <th>4</th>\n",
       "      <td>Femmes Shorts d'été à lacets taille élastique ...</td>\n",
       "      <td>Women Summer Shorts Lace Up Elastic Waistband ...</td>\n",
       "      <td>2.72</td>\n",
       "      <td>3</td>\n",
       "      <td>EUR</td>\n",
       "      <td>100</td>\n",
       "      <td>1</td>\n",
       "      <td>3.10</td>\n",
       "      <td>20</td>\n",
       "      <td>6.0</td>\n",
       "      <td>...</td>\n",
       "      <td>2020-08</td>\n",
       "      <td>272.0</td>\n",
       "      <td>20000</td>\n",
       "      <td>1</td>\n",
       "      <td>1072</td>\n",
       "      <td>1</td>\n",
       "      <td>C</td>\n",
       "      <td>1072</td>\n",
       "      <td>1</td>\n",
       "      <td>C</td>\n",
       "    </tr>\n",
       "  </tbody>\n",
       "</table>\n",
       "<p>5 rows × 52 columns</p>\n",
       "</div>"
      ],
      "text/plain": [
       "                                               title  \\\n",
       "0  2020 Summer Vintage Flamingo Print  Pajamas Se...   \n",
       "1  SSHOUSE Summer Casual Sleeveless Soirée Party ...   \n",
       "2  2020 Nouvelle Arrivée Femmes Printemps et Été ...   \n",
       "3  Hot Summer Cool T-shirt pour les femmes Mode T...   \n",
       "4  Femmes Shorts d'été à lacets taille élastique ...   \n",
       "\n",
       "                                          title_orig  price  retail_price  \\\n",
       "0  2020 Summer Vintage Flamingo Print  Pajamas Se...  16.00            14   \n",
       "1   Women's Casual Summer Sleeveless Sexy Mini Dress   8.00            22   \n",
       "2  2020 New Arrival Women Spring and Summer Beach...   8.00            43   \n",
       "3  Hot Summer Cool T Shirt for Women Fashion Tops...   8.00             8   \n",
       "4  Women Summer Shorts Lace Up Elastic Waistband ...   2.72             3   \n",
       "\n",
       "  currency_buyer  units_sold  uses_ad_boosts  rating  rating_count  \\\n",
       "0            EUR         100               0    3.76            54   \n",
       "1            EUR       20000               1    3.45          6135   \n",
       "2            EUR         100               0    3.57            14   \n",
       "3            EUR        5000               1    4.03           579   \n",
       "4            EUR         100               1    3.10            20   \n",
       "\n",
       "   rating_five_count  ...  crawl_month   revenue  rev_dist  count_x  count_y  \\\n",
       "0               26.0  ...      2020-08    1600.0     20000        1     1072   \n",
       "1             2269.0  ...      2020-08  160000.0    160000        1       28   \n",
       "2                5.0  ...      2020-08     800.0     20000        1     1072   \n",
       "3              295.0  ...      2020-08   40000.0     40000        1      120   \n",
       "4                6.0  ...      2020-08     272.0     20000        1     1072   \n",
       "\n",
       "   category_x  ABC_x  count category_y ABC_y  \n",
       "0           1      C   1072          1     C  \n",
       "1           0      A     28          0     A  \n",
       "2           1      C   1072          1     C  \n",
       "3           2      B    120          2     B  \n",
       "4           1      C   1072          1     C  \n",
       "\n",
       "[5 rows x 52 columns]"
      ]
     },
     "execution_count": 16,
     "metadata": {},
     "output_type": "execute_result"
    }
   ],
   "source": [
    "df = pd.merge(df, pivot_table, on = \"rev_dist\", how =\"left\")\n",
    "df.head()"
   ]
  },
  {
   "cell_type": "markdown",
   "id": "eb8d5825",
   "metadata": {},
   "source": [
    "This means that while we don’t immediately know which items fall into Category A, we do know that some income classifications are classified as A Items. As a result, we can just merge the main data frame and the PivotTable to give each item its ABC classification.\n",
    "\n",
    "When analyzing the final distribution of the elements, it was found that:\n",
    "\n",
    "- A-items represent 11.4% of articles, but 61.7% of turnover\n",
    "- B-items represent 20.5% of items, but 30.7% of turnover\n",
    "- C-items represent 68.1% of articles, but 7.6% of turnover"
   ]
  }
 ],
 "metadata": {
  "kernelspec": {
   "display_name": "Python 3 (ipykernel)",
   "language": "python",
   "name": "python3"
  },
  "language_info": {
   "codemirror_mode": {
    "name": "ipython",
    "version": 3
   },
   "file_extension": ".py",
   "mimetype": "text/x-python",
   "name": "python",
   "nbconvert_exporter": "python",
   "pygments_lexer": "ipython3",
   "version": "3.8.8"
  }
 },
 "nbformat": 4,
 "nbformat_minor": 5
}
