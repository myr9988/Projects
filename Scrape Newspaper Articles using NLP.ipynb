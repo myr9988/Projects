{
 "cells": [
  {
   "cell_type": "markdown",
   "id": "e1143170",
   "metadata": {},
   "source": [
    "In this Porject I will show, how we can Scrape and Summarize Newspaper Articles using Python and Machine Learning techniques like NLP(Natural Language Processing)."
   ]
  },
  {
   "cell_type": "markdown",
   "id": "bbcd1db4",
   "metadata": {},
   "source": [
    "### Let’s start with importing libraries"
   ]
  },
  {
   "cell_type": "code",
   "execution_count": 2,
   "id": "7c2f2783",
   "metadata": {},
   "outputs": [
    {
     "name": "stdout",
     "output_type": "stream",
     "text": [
      "\n",
      "  Building wheel for tinysegmenter (setup.py): finished with status 'done'\n",
      "  Created wheel for tinysegmenter: filename=tinysegmenter-0.3-py3-none-any.whl size=13553 sha256=2b3da45997d8341fe8f3b30d5de469ec127e027fa7322c3e7e51becf2265250c\n",
      "  Stored in directory: c:\\users\\shree\\appdata\\local\\pip\\cache\\wheels\\99\\74\\83\\8fac1c8d9c648cfabebbbffe97a889f6624817f3aa0bbe6c09\n",
      "  Building wheel for feedfinder2 (setup.py): started\n",
      "  Building wheel for feedfinder2 (setup.py): finished with status 'done'\n",
      "  Created wheel for feedfinder2: filename=feedfinder2-0.0.4-py3-none-any.whl size=3357 sha256=01c4f02ec96412cebdb7c41f5c09512a66fdf1f845c6eb4730bf81e325ed7cac\n",
      "  Stored in directory: c:\\users\\shree\\appdata\\local\\pip\\cache\\wheels\\b6\\09\\68\\a9f15498ac02c23dde29f18745bc6a6f574ba4ab41861a3575\n",
      "  Building wheel for jieba3k (setup.py): started\n",
      "  Building wheel for jieba3k (setup.py): finished with status 'done'\n",
      "  Created wheel for jieba3k: filename=jieba3k-0.35.1-py3-none-any.whl size=7398404 sha256=270c010f96d7fc50209f47eed26c7d6971705d486b4a4ae8abf49560c773c830\n",
      "  Stored in directory: c:\\users\\shree\\appdata\\local\\pip\\cache\\wheels\\1f\\7e\\0c\\54f3b0f5164278677899f2db08f2b07943ce2d024a3c862afb\n",
      "  Building wheel for sgmllib3k (setup.py): started\n",
      "  Building wheel for sgmllib3k (setup.py): finished with status 'done'\n",
      "  Created wheel for sgmllib3k: filename=sgmllib3k-1.0.0-py3-none-any.whl size=6066 sha256=a9723b3dd85ed7433c6a803089f4f52a974e293a29498a1066da4f5e9160f946\n",
      "  Stored in directory: c:\\users\\shree\\appdata\\local\\pip\\cache\\wheels\\83\\63\\2f\\117884c3b19d46b64d3d61690333aa80c88dc14050e269c546\n",
      "Successfully built tinysegmenter feedfinder2 jieba3k sgmllib3k\n",
      "Installing collected packages: tinysegmenter, sgmllib3k, jieba3k, feedparser, cssselect, requests-file, feedfinder2, tldextract, newspaper3k\n",
      "Successfully installed cssselect-1.1.0 feedfinder2-0.0.4 feedparser-6.0.8 jieba3k-0.35.1 newspaper3k-0.2.8 requests-file-1.5.1 sgmllib3k-1.0.0 tinysegmenter-0.3 tldextract-3.3.0\n"
     ]
    }
   ],
   "source": [
    "import nltk\n",
    "from newspaper import Article\n",
    "# select a url of any news article\n",
    "url = 'https://www.indiatoday.in/india/story/heavy-rain-strong-winds-storm-bengaluru-latest-updates-may-24-1681398-2020-05-24'\n",
    "article = Article(url)"
   ]
  },
  {
   "cell_type": "markdown",
   "id": "13e084d5",
   "metadata": {},
   "source": [
    "### Now let’s do some NLP"
   ]
  },
  {
   "cell_type": "code",
   "execution_count": 3,
   "id": "55f087c1",
   "metadata": {},
   "outputs": [
    {
     "name": "stderr",
     "output_type": "stream",
     "text": [
      "[nltk_data] Downloading package punkt to\n",
      "[nltk_data]     C:\\Users\\SHREE\\AppData\\Roaming\\nltk_data...\n",
      "[nltk_data]   Package punkt is already up-to-date!\n"
     ]
    }
   ],
   "source": [
    "article.download()\n",
    "article.parse()\n",
    "nltk.download('punkt')\n",
    "article.nlp()"
   ]
  },
  {
   "cell_type": "markdown",
   "id": "e3399392",
   "metadata": {},
   "source": [
    "### To get the authors of the article"
   ]
  },
  {
   "cell_type": "code",
   "execution_count": 4,
   "id": "1cc7a70e",
   "metadata": {},
   "outputs": [
    {
     "data": {
      "text/plain": [
       "[]"
      ]
     },
     "execution_count": 4,
     "metadata": {},
     "output_type": "execute_result"
    }
   ],
   "source": [
    "article.authors"
   ]
  },
  {
   "cell_type": "markdown",
   "id": "1bc64149",
   "metadata": {},
   "source": [
    "### To get the published date"
   ]
  },
  {
   "cell_type": "code",
   "execution_count": 5,
   "id": "f12f0077",
   "metadata": {},
   "outputs": [
    {
     "data": {
      "text/plain": [
       "datetime.datetime(2020, 5, 24, 0, 0)"
      ]
     },
     "execution_count": 5,
     "metadata": {},
     "output_type": "execute_result"
    }
   ],
   "source": [
    "article.publish_date"
   ]
  },
  {
   "cell_type": "markdown",
   "id": "74f028a4",
   "metadata": {},
   "source": [
    "### To get the top image of the article"
   ]
  },
  {
   "cell_type": "code",
   "execution_count": 6,
   "id": "00602f2c",
   "metadata": {},
   "outputs": [
    {
     "data": {
      "text/plain": [
       "'https://akm-img-a-in.tosshub.com/indiatoday/images/story/202005/rain_rep-647x363.jpeg?tBBX77JjgqP2dcddvic9tk53JXUxGCWc'"
      ]
     },
     "execution_count": 6,
     "metadata": {},
     "output_type": "execute_result"
    }
   ],
   "source": [
    "article.top_image"
   ]
  },
  {
   "cell_type": "markdown",
   "id": "9464bc58",
   "metadata": {},
   "source": [
    "### To  get the article text"
   ]
  },
  {
   "cell_type": "code",
   "execution_count": 7,
   "id": "e60a639b",
   "metadata": {},
   "outputs": [
    {
     "name": "stdout",
     "output_type": "stream",
     "text": [
      "Heavy rain accompanied by strong winds lashed Bengaluru on Friday, leaving several trees uprooted near the BTM layout. Reports of waterlogging and roads caving-in also came to light.\n",
      "\n",
      "Karnataka: Heavy rain accompanied by strong winds lashed Bengaluru today. Trees were uprooted near the BTM layout. pic.twitter.com/Tl2I2Mbj9j — ANI (@ANI) May 24, 2020\n",
      "\n",
      "The India Meteorological Department (IMD) had predicted rainfall in Bengaluru till May 30.\n",
      "\n",
      "The IMD had said that the sky would be partly cloudy with one or two spells of rain or thundershowers. Meanwhile, the maximum temperature in the city is likely to be 36 degrees Celcius. It is likely to further drop to 34 degrees as the week progresses.\n",
      "\n",
      "The sudden change in weather brought respite for the Bangaloreans as they took to social media to post videos and pictures of the surprise spell of rain, calling it a \"sign of relief\".\n",
      "\n",
      "\"Rain & wind went frenzy in Bangalore,\" a Twitter user said.\n",
      "\n",
      "Rain & wind went frenzy in Bangalore. pic.twitter.com/RvYolCdRkS — The Swacch Surgeon (@viswas_mr) May 24, 2020\n",
      "\n",
      "\"Sudden thunderstorm.. severe high speed lashing winds with rain.. hitting hard on South Bangalore, bangaloreans,\" another user said.\n",
      "\n",
      "Meanwhile, some even said that they have not seen this kind of rain before in Bengaluru.\n",
      "\n",
      "\"Not sure if I’ve seen this kind of #rain before in #Bangalore!,\" a Twitter user said.\n"
     ]
    }
   ],
   "source": [
    "print(article.text)"
   ]
  },
  {
   "cell_type": "markdown",
   "id": "f567b61d",
   "metadata": {},
   "source": [
    "### To get a summary of the article"
   ]
  },
  {
   "cell_type": "code",
   "execution_count": 8,
   "id": "4f018b2e",
   "metadata": {},
   "outputs": [
    {
     "name": "stdout",
     "output_type": "stream",
     "text": [
      "Heavy rain accompanied by strong winds lashed Bengaluru on Friday, leaving several trees uprooted near the BTM layout.\n",
      "Karnataka: Heavy rain accompanied by strong winds lashed Bengaluru today.\n",
      "\"Rain & wind went frenzy in Bangalore,\" a Twitter user said.\n",
      "Rain & wind went frenzy in Bangalore.\n",
      "\"Not sure if I’ve seen this kind of #rain before in #Bangalore!,\" a Twitter user said.\n"
     ]
    }
   ],
   "source": [
    "print(article.summary)"
   ]
  }
 ],
 "metadata": {
  "kernelspec": {
   "display_name": "Python 3 (ipykernel)",
   "language": "python",
   "name": "python3"
  },
  "language_info": {
   "codemirror_mode": {
    "name": "ipython",
    "version": 3
   },
   "file_extension": ".py",
   "mimetype": "text/x-python",
   "name": "python",
   "nbconvert_exporter": "python",
   "pygments_lexer": "ipython3",
   "version": "3.8.8"
  }
 },
 "nbformat": 4,
 "nbformat_minor": 5
}
