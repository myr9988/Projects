{
 "cells": [
  {
   "cell_type": "markdown",
   "id": "3f00fbc7",
   "metadata": {},
   "source": [
    "### Background\n",
    "#### Customer segmentation - \n",
    "It is the process of splitting a customer base into groups according to its similarity.\n",
    "\n",
    "This concept of similarity depends on common characteristics — such as demographics (e.g., age, gender, income levels) or transactional behaviours (e.g., spending amount, quantity of purchases, days since last purchase) [1].\n",
    "\n",
    "If we successfully identify the similarities and differences between the groups then we could build targeted strategies for each of them.\n",
    "\n",
    "Some benefits of customer segmentation are [2]:\n",
    "\n",
    "More customer retention\n",
    "Enhances competitiveness\n",
    "Leads to price optimization\n",
    "Now, there are several methods to segment customers, but there is one that is fairly common among digital marketers and it’s called RFM Analysis.\n",
    "\n",
    "#### RFM Analysis -\n",
    "It is a basic customer segmentation algorithm used to identify a company’s best customers by measuring and analyzing spending habits [3].\n",
    "\n",
    "This model is based on three main variables:\n",
    "\n",
    "- Recency: How recently a customer made a purchase (i.e., if you bought something on June 3th and today is June 10th, your recency is 7 days).\n",
    "- Frequency: How often customers make a purchase (i.e., if you made 5 purchases during a specific time interval of analysis, your frequency is 5).\n",
    "- Monetary: How much money a customer spends on purchases (i.e., if you buy 3 products priced at $5, then your monetary value is $15).\n",
    "These variables are relevant indicators of customer’s behaviour because frequency and monetary value affects the customer’s lifetime value, and recency affects retention (a measure of engagement) [4].\n",
    "\n",
    "However, we don’t want to use just RFM Analysis on this approach, so we introduce a popular Unsupervised Machine Learning algorithm called KMeans.\n",
    "\n",
    "#### KMeans - \n",
    "It is a clustering algorithm which divides a dataset into k clusters, where k is defined a priori. Each cluster refers to a collection of data (in this case users) aggregated together because of certain similarities [5].\n",
    "\n",
    "In short, we’ll group similar observations together (in k clusters) and discover underlying patterns."
   ]
  },
  {
   "cell_type": "markdown",
   "id": "90b5af89",
   "metadata": {},
   "source": [
    "### Business Scenario\n",
    "In the following analysis, we’ll use a transactional dataset which was randomly generated. The goal is to identify at least 3 transactional-based customer’s clusters using variables such as date, order id, user id and order value."
   ]
  },
  {
   "cell_type": "markdown",
   "id": "bb46a04e",
   "metadata": {},
   "source": [
    "### About Dataset\n",
    "The data used in this article is an e-commerce dataset available at Kaggle. The dataset is transactional data that contains the transactions during 2011 for a UK-based retailer."
   ]
  },
  {
   "cell_type": "markdown",
   "id": "fe708eb8",
   "metadata": {},
   "source": [
    "### Import Libraries"
   ]
  },
  {
   "cell_type": "code",
   "execution_count": 1,
   "id": "4b82bc0a",
   "metadata": {},
   "outputs": [],
   "source": [
    "import numpy as np\n",
    "import pandas as pd\n",
    "import matplotlib.pyplot as plt\n",
    "%matplotlib inline\n",
    "import warnings\n",
    "warnings.filterwarnings('ignore')"
   ]
  },
  {
   "cell_type": "markdown",
   "id": "9769ba10",
   "metadata": {},
   "source": [
    "### Import Data"
   ]
  },
  {
   "cell_type": "code",
   "execution_count": 2,
   "id": "54161df5",
   "metadata": {},
   "outputs": [
    {
     "data": {
      "text/html": [
       "<div>\n",
       "<style scoped>\n",
       "    .dataframe tbody tr th:only-of-type {\n",
       "        vertical-align: middle;\n",
       "    }\n",
       "\n",
       "    .dataframe tbody tr th {\n",
       "        vertical-align: top;\n",
       "    }\n",
       "\n",
       "    .dataframe thead th {\n",
       "        text-align: right;\n",
       "    }\n",
       "</style>\n",
       "<table border=\"1\" class=\"dataframe\">\n",
       "  <thead>\n",
       "    <tr style=\"text-align: right;\">\n",
       "      <th></th>\n",
       "      <th>InvoiceNo</th>\n",
       "      <th>StockCode</th>\n",
       "      <th>Description</th>\n",
       "      <th>Quantity</th>\n",
       "      <th>InvoiceDate</th>\n",
       "      <th>UnitPrice</th>\n",
       "      <th>CustomerID</th>\n",
       "      <th>Country</th>\n",
       "    </tr>\n",
       "  </thead>\n",
       "  <tbody>\n",
       "    <tr>\n",
       "      <th>0</th>\n",
       "      <td>536365</td>\n",
       "      <td>85123A</td>\n",
       "      <td>WHITE HANGING HEART T-LIGHT HOLDER</td>\n",
       "      <td>6</td>\n",
       "      <td>12/1/2010 8:26</td>\n",
       "      <td>2.55</td>\n",
       "      <td>17850.0</td>\n",
       "      <td>United Kingdom</td>\n",
       "    </tr>\n",
       "    <tr>\n",
       "      <th>1</th>\n",
       "      <td>536365</td>\n",
       "      <td>71053</td>\n",
       "      <td>WHITE METAL LANTERN</td>\n",
       "      <td>6</td>\n",
       "      <td>12/1/2010 8:26</td>\n",
       "      <td>3.39</td>\n",
       "      <td>17850.0</td>\n",
       "      <td>United Kingdom</td>\n",
       "    </tr>\n",
       "    <tr>\n",
       "      <th>2</th>\n",
       "      <td>536365</td>\n",
       "      <td>84406B</td>\n",
       "      <td>CREAM CUPID HEARTS COAT HANGER</td>\n",
       "      <td>8</td>\n",
       "      <td>12/1/2010 8:26</td>\n",
       "      <td>2.75</td>\n",
       "      <td>17850.0</td>\n",
       "      <td>United Kingdom</td>\n",
       "    </tr>\n",
       "    <tr>\n",
       "      <th>3</th>\n",
       "      <td>536365</td>\n",
       "      <td>84029G</td>\n",
       "      <td>KNITTED UNION FLAG HOT WATER BOTTLE</td>\n",
       "      <td>6</td>\n",
       "      <td>12/1/2010 8:26</td>\n",
       "      <td>3.39</td>\n",
       "      <td>17850.0</td>\n",
       "      <td>United Kingdom</td>\n",
       "    </tr>\n",
       "    <tr>\n",
       "      <th>4</th>\n",
       "      <td>536365</td>\n",
       "      <td>84029E</td>\n",
       "      <td>RED WOOLLY HOTTIE WHITE HEART.</td>\n",
       "      <td>6</td>\n",
       "      <td>12/1/2010 8:26</td>\n",
       "      <td>3.39</td>\n",
       "      <td>17850.0</td>\n",
       "      <td>United Kingdom</td>\n",
       "    </tr>\n",
       "  </tbody>\n",
       "</table>\n",
       "</div>"
      ],
      "text/plain": [
       "  InvoiceNo StockCode                          Description  Quantity  \\\n",
       "0    536365    85123A   WHITE HANGING HEART T-LIGHT HOLDER         6   \n",
       "1    536365     71053                  WHITE METAL LANTERN         6   \n",
       "2    536365    84406B       CREAM CUPID HEARTS COAT HANGER         8   \n",
       "3    536365    84029G  KNITTED UNION FLAG HOT WATER BOTTLE         6   \n",
       "4    536365    84029E       RED WOOLLY HOTTIE WHITE HEART.         6   \n",
       "\n",
       "      InvoiceDate  UnitPrice  CustomerID         Country  \n",
       "0  12/1/2010 8:26       2.55     17850.0  United Kingdom  \n",
       "1  12/1/2010 8:26       3.39     17850.0  United Kingdom  \n",
       "2  12/1/2010 8:26       2.75     17850.0  United Kingdom  \n",
       "3  12/1/2010 8:26       3.39     17850.0  United Kingdom  \n",
       "4  12/1/2010 8:26       3.39     17850.0  United Kingdom  "
      ]
     },
     "execution_count": 2,
     "metadata": {},
     "output_type": "execute_result"
    }
   ],
   "source": [
    "raw_data = pd.read_csv('E:\\Customer Segmentation using RFM Analysis with KMeans\\data.csv', encoding= 'unicode_escape')\n",
    "raw_data.head()"
   ]
  },
  {
   "cell_type": "markdown",
   "id": "4fb25926",
   "metadata": {},
   "source": [
    "### Data Cleaning"
   ]
  },
  {
   "cell_type": "code",
   "execution_count": 3,
   "id": "18e91e05",
   "metadata": {},
   "outputs": [
    {
     "data": {
      "text/plain": [
       "InvoiceNo           0\n",
       "StockCode           0\n",
       "Description      1454\n",
       "Quantity            0\n",
       "InvoiceDate         0\n",
       "UnitPrice           0\n",
       "CustomerID     135080\n",
       "Country             0\n",
       "dtype: int64"
      ]
     },
     "execution_count": 3,
     "metadata": {},
     "output_type": "execute_result"
    }
   ],
   "source": [
    "# check NA/NULL\n",
    "raw_data.isna().sum()"
   ]
  },
  {
   "cell_type": "code",
   "execution_count": 4,
   "id": "f24d54f8",
   "metadata": {},
   "outputs": [],
   "source": [
    "# remove NULL\n",
    "raw_data = raw_data.dropna(axis = 0, how = 'any')"
   ]
  },
  {
   "cell_type": "code",
   "execution_count": 5,
   "id": "6e3fa0ae",
   "metadata": {},
   "outputs": [
    {
     "data": {
      "text/plain": [
       "5225"
      ]
     },
     "execution_count": 5,
     "metadata": {},
     "output_type": "execute_result"
    }
   ],
   "source": [
    "# check duplicates\n",
    "raw_data.duplicated().sum()"
   ]
  },
  {
   "cell_type": "code",
   "execution_count": 6,
   "id": "43389187",
   "metadata": {},
   "outputs": [],
   "source": [
    "# remove duplicates\n",
    "raw_data = raw_data.drop_duplicates(ignore_index = True)"
   ]
  },
  {
   "cell_type": "markdown",
   "id": "adf7539d",
   "metadata": {},
   "source": [
    "### Feature engineering\n",
    "\n",
    "This step is crucial as we start to transform our raw data to the data with the appropriate format for the upcoming clustering algorithm to consume. To this end, we will do the followings:\n",
    "\n",
    "- Convert InvoiceDate column to the convenient datetime format\n",
    "- Create trx_amount column by multiplying Quantity and Unitprice\n",
    "- Convert CustomerID column to integer format"
   ]
  },
  {
   "cell_type": "code",
   "execution_count": 7,
   "id": "fb8a4aab",
   "metadata": {},
   "outputs": [],
   "source": [
    "# convert datetime column format\n",
    "raw_data.InvoiceDate = pd.to_datetime(raw_data.InvoiceDate)"
   ]
  },
  {
   "cell_type": "code",
   "execution_count": 8,
   "id": "98432d8d",
   "metadata": {},
   "outputs": [],
   "source": [
    "# create trx_amount col\n",
    "raw_data['TrxAmount'] = raw_data.Quantity * raw_data.UnitPrice\n",
    "\n",
    "# include only positive TrxAmount column (exclude credit)\n",
    "raw_data = raw_data[raw_data['TrxAmount'] > 0]"
   ]
  },
  {
   "cell_type": "code",
   "execution_count": 9,
   "id": "6d253d71",
   "metadata": {},
   "outputs": [],
   "source": [
    "# cast CustomerID col to interger\n",
    "raw_data.CustomerID = raw_data.CustomerID.astype('int') "
   ]
  },
  {
   "cell_type": "markdown",
   "id": "df2e0dda",
   "metadata": {},
   "source": [
    "- With the latest raw_data dataframe format we got from the above code snippet, we are ready to construct a new dataframe for RFM segmentation. The dataframe’s key is CustomerID, with three columns as features: recency, frequency, and monetary.\n",
    "\n",
    "- First, we address the first feature: recency, which I believe is the most complicated of the three, in terms of preprocessing needed. We’ll start with the code below."
   ]
  },
  {
   "cell_type": "code",
   "execution_count": 10,
   "id": "56e3f2d6",
   "metadata": {},
   "outputs": [
    {
     "data": {
      "text/html": [
       "<div>\n",
       "<style scoped>\n",
       "    .dataframe tbody tr th:only-of-type {\n",
       "        vertical-align: middle;\n",
       "    }\n",
       "\n",
       "    .dataframe tbody tr th {\n",
       "        vertical-align: top;\n",
       "    }\n",
       "\n",
       "    .dataframe thead th {\n",
       "        text-align: right;\n",
       "    }\n",
       "</style>\n",
       "<table border=\"1\" class=\"dataframe\">\n",
       "  <thead>\n",
       "    <tr style=\"text-align: right;\">\n",
       "      <th></th>\n",
       "      <th>CustomerID</th>\n",
       "      <th>InvoiceDate</th>\n",
       "    </tr>\n",
       "  </thead>\n",
       "  <tbody>\n",
       "    <tr>\n",
       "      <th>0</th>\n",
       "      <td>12346</td>\n",
       "      <td>2011-01-18 10:01:00</td>\n",
       "    </tr>\n",
       "    <tr>\n",
       "      <th>1</th>\n",
       "      <td>12347</td>\n",
       "      <td>2011-12-07 15:52:00</td>\n",
       "    </tr>\n",
       "    <tr>\n",
       "      <th>2</th>\n",
       "      <td>12348</td>\n",
       "      <td>2011-09-25 13:13:00</td>\n",
       "    </tr>\n",
       "    <tr>\n",
       "      <th>3</th>\n",
       "      <td>12349</td>\n",
       "      <td>2011-11-21 09:51:00</td>\n",
       "    </tr>\n",
       "    <tr>\n",
       "      <th>4</th>\n",
       "      <td>12350</td>\n",
       "      <td>2011-02-02 16:01:00</td>\n",
       "    </tr>\n",
       "  </tbody>\n",
       "</table>\n",
       "</div>"
      ],
      "text/plain": [
       "   CustomerID         InvoiceDate\n",
       "0       12346 2011-01-18 10:01:00\n",
       "1       12347 2011-12-07 15:52:00\n",
       "2       12348 2011-09-25 13:13:00\n",
       "3       12349 2011-11-21 09:51:00\n",
       "4       12350 2011-02-02 16:01:00"
      ]
     },
     "execution_count": 10,
     "metadata": {},
     "output_type": "execute_result"
    }
   ],
   "source": [
    "# recency (r) df\n",
    "data_r = raw_data[['InvoiceDate','CustomerID']].groupby('CustomerID')['InvoiceDate'].agg('max').reset_index()\n",
    "data_r.head()"
   ]
  },
  {
   "cell_type": "markdown",
   "id": "82f592fd",
   "metadata": {},
   "source": [
    "- We define user recency as how long it has been (in months) since the user made his last transaction. In this regard, we first need to determine the current time reference that we use for counting the months backward: we set it as the most recent value of InvoiceData column.\n",
    "- Next, since we consider a customer to be absolutely churned if his or her most recent transaction occurred 6 months ago or more, we have little interest in encoding the recency value if it is greater than 6 months — no longer have meaningful additional information. In other words, the recency values must be clipped to a maximum of 6 months."
   ]
  },
  {
   "cell_type": "code",
   "execution_count": 11,
   "id": "1eaf8ae6",
   "metadata": {},
   "outputs": [
    {
     "data": {
      "text/html": [
       "<div>\n",
       "<style scoped>\n",
       "    .dataframe tbody tr th:only-of-type {\n",
       "        vertical-align: middle;\n",
       "    }\n",
       "\n",
       "    .dataframe tbody tr th {\n",
       "        vertical-align: top;\n",
       "    }\n",
       "\n",
       "    .dataframe thead th {\n",
       "        text-align: right;\n",
       "    }\n",
       "</style>\n",
       "<table border=\"1\" class=\"dataframe\">\n",
       "  <thead>\n",
       "    <tr style=\"text-align: right;\">\n",
       "      <th></th>\n",
       "      <th>CustomerID</th>\n",
       "      <th>Recency</th>\n",
       "    </tr>\n",
       "  </thead>\n",
       "  <tbody>\n",
       "    <tr>\n",
       "      <th>0</th>\n",
       "      <td>12346</td>\n",
       "      <td>6</td>\n",
       "    </tr>\n",
       "    <tr>\n",
       "      <th>1</th>\n",
       "      <td>12347</td>\n",
       "      <td>0</td>\n",
       "    </tr>\n",
       "    <tr>\n",
       "      <th>2</th>\n",
       "      <td>12348</td>\n",
       "      <td>3</td>\n",
       "    </tr>\n",
       "    <tr>\n",
       "      <th>3</th>\n",
       "      <td>12349</td>\n",
       "      <td>1</td>\n",
       "    </tr>\n",
       "    <tr>\n",
       "      <th>4</th>\n",
       "      <td>12350</td>\n",
       "      <td>6</td>\n",
       "    </tr>\n",
       "  </tbody>\n",
       "</table>\n",
       "</div>"
      ],
      "text/plain": [
       "   CustomerID  Recency\n",
       "0       12346        6\n",
       "1       12347        0\n",
       "2       12348        3\n",
       "3       12349        1\n",
       "4       12350        6"
      ]
     },
     "execution_count": 11,
     "metadata": {},
     "output_type": "execute_result"
    }
   ],
   "source": [
    "# current time benchmark\n",
    "cur_time = data_r.InvoiceDate.max()\n",
    "\n",
    "# month diff function\n",
    "def month_diff(cur_time, datetime_val): \n",
    "    return 12 * (cur_time.year - datetime_val.year) + (cur_time.month - datetime_val.month)\n",
    "\n",
    "# recency month\n",
    "data_r['Recency'] = data_r.InvoiceDate.apply(lambda datetime_val: month_diff(cur_time, datetime_val))\n",
    "\n",
    "# clip max at 6 month\n",
    "data_r.Recency = data_r.Recency.clip(lower = None, upper = 6)\n",
    "\n",
    "# drop InvoiceDate col\n",
    "data_r = data_r.drop('InvoiceDate', axis = 1)\n",
    "\n",
    "# head\n",
    "data_r.head()"
   ]
  },
  {
   "cell_type": "markdown",
   "id": "2c4c542d",
   "metadata": {},
   "source": [
    "- We‘re done with recency. Now we’ll create frequency and monetary features. Because we only want the most meaningful (non-obsolete) information, we’ll only consider transactions from the last 6 months when constructing the frequency and monetary features:\n",
    "- Frequency: the number of transactions completed by the user in the previous six months.\n",
    "- Monetary: the user’s average transaction size for the last six months\n",
    "- It is worth noting that this time period constraint is also advantageous in terms of computational standpoint. Assume you are working at Amazon to create the RFM segmentation. If you don’t limit the time window, you’ll end up using their more than two decades of transaction log data (which is supposedly too massive in size)."
   ]
  },
  {
   "cell_type": "code",
   "execution_count": 12,
   "id": "b16f7deb",
   "metadata": {},
   "outputs": [
    {
     "data": {
      "text/html": [
       "<div>\n",
       "<style scoped>\n",
       "    .dataframe tbody tr th:only-of-type {\n",
       "        vertical-align: middle;\n",
       "    }\n",
       "\n",
       "    .dataframe tbody tr th {\n",
       "        vertical-align: top;\n",
       "    }\n",
       "\n",
       "    .dataframe thead th {\n",
       "        text-align: right;\n",
       "    }\n",
       "</style>\n",
       "<table border=\"1\" class=\"dataframe\">\n",
       "  <thead>\n",
       "    <tr style=\"text-align: right;\">\n",
       "      <th></th>\n",
       "      <th>CustomerID</th>\n",
       "      <th>Frequency</th>\n",
       "      <th>Monetary</th>\n",
       "    </tr>\n",
       "  </thead>\n",
       "  <tbody>\n",
       "    <tr>\n",
       "      <th>0</th>\n",
       "      <td>12347</td>\n",
       "      <td>4</td>\n",
       "      <td>25.37</td>\n",
       "    </tr>\n",
       "    <tr>\n",
       "      <th>1</th>\n",
       "      <td>12348</td>\n",
       "      <td>1</td>\n",
       "      <td>103.33</td>\n",
       "    </tr>\n",
       "    <tr>\n",
       "      <th>2</th>\n",
       "      <td>12349</td>\n",
       "      <td>1</td>\n",
       "      <td>24.08</td>\n",
       "    </tr>\n",
       "    <tr>\n",
       "      <th>3</th>\n",
       "      <td>12352</td>\n",
       "      <td>3</td>\n",
       "      <td>20.09</td>\n",
       "    </tr>\n",
       "    <tr>\n",
       "      <th>4</th>\n",
       "      <td>12356</td>\n",
       "      <td>1</td>\n",
       "      <td>29.17</td>\n",
       "    </tr>\n",
       "  </tbody>\n",
       "</table>\n",
       "</div>"
      ],
      "text/plain": [
       "   CustomerID  Frequency  Monetary\n",
       "0       12347          4     25.37\n",
       "1       12348          1    103.33\n",
       "2       12349          1     24.08\n",
       "3       12352          3     20.09\n",
       "4       12356          1     29.17"
      ]
     },
     "execution_count": 12,
     "metadata": {},
     "output_type": "execute_result"
    }
   ],
   "source": [
    "# frequency & monetary(fm) df only w.r.t. last 6 month data\n",
    "EARLIEST_DATE = pd.to_datetime('2011-06-09')\n",
    "data_fm = raw_data[raw_data.InvoiceDate >= EARLIEST_DATE]\n",
    "data_fm = data_fm[['InvoiceNo','CustomerID','TrxAmount']]\n",
    "\n",
    "data_fm = data_fm.groupby('CustomerID')[['InvoiceNo','TrxAmount']].agg({'InvoiceNo':'nunique', 'TrxAmount':'mean'}).reset_index()\n",
    "data_fm = data_fm.rename(columns = {'InvoiceNo':'Frequency', 'TrxAmount':'Monetary'})\n",
    "data_fm.Monetary = data_fm.Monetary.round(2)\n",
    "data_fm.head()"
   ]
  },
  {
   "cell_type": "markdown",
   "id": "63103e75",
   "metadata": {},
   "source": [
    "- Finally, we join recency dataframe (data_r) with frequency & monetary dataframe (data_fm) to get our final data!"
   ]
  },
  {
   "cell_type": "code",
   "execution_count": 13,
   "id": "daf9b635",
   "metadata": {},
   "outputs": [
    {
     "data": {
      "text/html": [
       "<div>\n",
       "<style scoped>\n",
       "    .dataframe tbody tr th:only-of-type {\n",
       "        vertical-align: middle;\n",
       "    }\n",
       "\n",
       "    .dataframe tbody tr th {\n",
       "        vertical-align: top;\n",
       "    }\n",
       "\n",
       "    .dataframe thead th {\n",
       "        text-align: right;\n",
       "    }\n",
       "</style>\n",
       "<table border=\"1\" class=\"dataframe\">\n",
       "  <thead>\n",
       "    <tr style=\"text-align: right;\">\n",
       "      <th></th>\n",
       "      <th>CustomerID</th>\n",
       "      <th>Recency</th>\n",
       "      <th>Frequency</th>\n",
       "      <th>Monetary</th>\n",
       "    </tr>\n",
       "  </thead>\n",
       "  <tbody>\n",
       "    <tr>\n",
       "      <th>0</th>\n",
       "      <td>12346</td>\n",
       "      <td>6</td>\n",
       "      <td>0.0</td>\n",
       "      <td>0.00</td>\n",
       "    </tr>\n",
       "    <tr>\n",
       "      <th>1</th>\n",
       "      <td>12347</td>\n",
       "      <td>0</td>\n",
       "      <td>4.0</td>\n",
       "      <td>25.37</td>\n",
       "    </tr>\n",
       "    <tr>\n",
       "      <th>2</th>\n",
       "      <td>12348</td>\n",
       "      <td>3</td>\n",
       "      <td>1.0</td>\n",
       "      <td>103.33</td>\n",
       "    </tr>\n",
       "    <tr>\n",
       "      <th>3</th>\n",
       "      <td>12349</td>\n",
       "      <td>1</td>\n",
       "      <td>1.0</td>\n",
       "      <td>24.08</td>\n",
       "    </tr>\n",
       "    <tr>\n",
       "      <th>4</th>\n",
       "      <td>12350</td>\n",
       "      <td>6</td>\n",
       "      <td>0.0</td>\n",
       "      <td>0.00</td>\n",
       "    </tr>\n",
       "  </tbody>\n",
       "</table>\n",
       "</div>"
      ],
      "text/plain": [
       "   CustomerID  Recency  Frequency  Monetary\n",
       "0       12346        6        0.0      0.00\n",
       "1       12347        0        4.0     25.37\n",
       "2       12348        3        1.0    103.33\n",
       "3       12349        1        1.0     24.08\n",
       "4       12350        6        0.0      0.00"
      ]
     },
     "execution_count": 13,
     "metadata": {},
     "output_type": "execute_result"
    }
   ],
   "source": [
    "# join to have the final data df\n",
    "data = data_r.merge(data_fm, on = 'CustomerID', how = 'left')\n",
    "data = data.fillna(0)\n",
    "data.head()"
   ]
  },
  {
   "cell_type": "code",
   "execution_count": 14,
   "id": "6b01f5c0",
   "metadata": {},
   "outputs": [
    {
     "data": {
      "text/plain": [
       "(4338, 4)"
      ]
     },
     "execution_count": 14,
     "metadata": {},
     "output_type": "execute_result"
    }
   ],
   "source": [
    "# data df shape\n",
    "data.shape"
   ]
  },
  {
   "cell_type": "markdown",
   "id": "c7667d15",
   "metadata": {},
   "source": [
    "### RFM Segmentation via K-means Clustering\n",
    "#### Standardize columns\n",
    "It is best practice to standardize the R-F-M features, particularly since the monetary function has the measure of money, implying that the scales are substantially different from the other features. By standardizing it, we ensure that the K-means algorithm does not overvalue this monetary function (i.e., considering it as a more important feature than the other features)."
   ]
  },
  {
   "cell_type": "code",
   "execution_count": 15,
   "id": "48a8addf",
   "metadata": {},
   "outputs": [],
   "source": [
    "from sklearn.preprocessing import StandardScaler\n",
    "# feature columns\n",
    "feature_cols = ['Recency','Frequency','Monetary']\n",
    "# standardized df for training\n",
    "standardized_data = data.copy()\n",
    "# standardization\n",
    "scaler = StandardScaler()\n",
    "scaler.fit(data[feature_cols])\n",
    "standardized_features = scaler.transform(data[feature_cols])\n",
    "standardized_data[feature_cols] = standardized_features"
   ]
  },
  {
   "cell_type": "markdown",
   "id": "16d6c37d",
   "metadata": {},
   "source": [
    "### Elbow method to Determine the Optimal K\n",
    "\n",
    "K (the number of clusters) in the K-means algorithm is, as you might know, a hyperparameter. As a result, we must choose it carefully ahead of time. The Elbow method is a common way to choose K optimally: we plot the sum of squared errors (SSE) for various K values and choose the K value at which the SSE decline slopes change significantly between before and after the value.\n",
    "\n",
    "For those that are unfamiliar with SSE, the term “error” refers to the deviation/distance between a data point and its centroid. SSE is thus the number of such squared errors for all data points. It’s also worth noting that SSE values always decrease as K increases.\n",
    "\n",
    "To proceed, we fit K-means algorithm ten times with ten different Ks (1,2,…,10) and save the SSE of each converged model (notice that the SSE is stored in theinertia_ attribute)."
   ]
  },
  {
   "cell_type": "code",
   "execution_count": 16,
   "id": "37615fcc",
   "metadata": {},
   "outputs": [],
   "source": [
    "# fit K-means clustering on various Ks\n",
    "from sklearn.cluster import KMeans\n",
    "kmeans_kwargs = {\n",
    "    \"init\" : \"random\",\n",
    "    \"n_init\" : 10\n",
    "}\n",
    "sse = []\n",
    "for k in range(1,11):\n",
    "    kmeans = KMeans(n_clusters=k, **kmeans_kwargs)\n",
    "    kmeans.fit(standardized_data[feature_cols])\n",
    "    sse.append(kmeans.inertia_)"
   ]
  },
  {
   "cell_type": "markdown",
   "id": "5ba96444",
   "metadata": {},
   "source": [
    "#### Let us visualize the Elbow method!"
   ]
  },
  {
   "cell_type": "code",
   "execution_count": 17,
   "id": "8bb222fb",
   "metadata": {},
   "outputs": [
    {
     "data": {
      "image/png": "[encoded data removed]",
      "text/plain": [
       "<Figure size 864x576 with 1 Axes>"
      ]
     },
     "metadata": {
      "needs_background": "light"
     },
     "output_type": "display_data"
    }
   ],
   "source": [
    "# Elbow method plot\n",
    "import matplotlib.pyplot as plt\n",
    "plt.figure(figsize = (12,8))\n",
    "plt.plot(range(1,11), sse)\n",
    "plt.xticks(range(1,11))\n",
    "plt.xlabel(\"Number of Clusters\")\n",
    "plt.ylabel(\"Sum of Squared Error\")\n",
    "plt.show()"
   ]
  },
  {
   "cell_type": "markdown",
   "id": "5c1fd8dd",
   "metadata": {},
   "source": [
    "- Looking at the plot above, it is clear that we can select K= 3: observe the large difference in slopes before and after this particular value of K."
   ]
  },
  {
   "cell_type": "markdown",
   "id": "931e05bf",
   "metadata": {},
   "source": [
    "#### Fit K-means using the optimal K\n",
    "\n",
    "After knowing the optimal K is 3, we fit the algorithm once again using this K value."
   ]
  },
  {
   "cell_type": "code",
   "execution_count": 18,
   "id": "e40250ff",
   "metadata": {},
   "outputs": [
    {
     "data": {
      "text/html": [
       "<div>\n",
       "<style scoped>\n",
       "    .dataframe tbody tr th:only-of-type {\n",
       "        vertical-align: middle;\n",
       "    }\n",
       "\n",
       "    .dataframe tbody tr th {\n",
       "        vertical-align: top;\n",
       "    }\n",
       "\n",
       "    .dataframe thead th {\n",
       "        text-align: right;\n",
       "    }\n",
       "</style>\n",
       "<table border=\"1\" class=\"dataframe\">\n",
       "  <thead>\n",
       "    <tr style=\"text-align: right;\">\n",
       "      <th></th>\n",
       "      <th>CustomerID</th>\n",
       "      <th>Recency</th>\n",
       "      <th>Frequency</th>\n",
       "      <th>Monetary</th>\n",
       "      <th>cluster</th>\n",
       "    </tr>\n",
       "  </thead>\n",
       "  <tbody>\n",
       "    <tr>\n",
       "      <th>0</th>\n",
       "      <td>12346</td>\n",
       "      <td>6</td>\n",
       "      <td>0.0</td>\n",
       "      <td>0.00</td>\n",
       "      <td>0</td>\n",
       "    </tr>\n",
       "    <tr>\n",
       "      <th>1</th>\n",
       "      <td>12347</td>\n",
       "      <td>0</td>\n",
       "      <td>4.0</td>\n",
       "      <td>25.37</td>\n",
       "      <td>2</td>\n",
       "    </tr>\n",
       "    <tr>\n",
       "      <th>2</th>\n",
       "      <td>12348</td>\n",
       "      <td>3</td>\n",
       "      <td>1.0</td>\n",
       "      <td>103.33</td>\n",
       "      <td>2</td>\n",
       "    </tr>\n",
       "    <tr>\n",
       "      <th>3</th>\n",
       "      <td>12349</td>\n",
       "      <td>1</td>\n",
       "      <td>1.0</td>\n",
       "      <td>24.08</td>\n",
       "      <td>2</td>\n",
       "    </tr>\n",
       "    <tr>\n",
       "      <th>4</th>\n",
       "      <td>12350</td>\n",
       "      <td>6</td>\n",
       "      <td>0.0</td>\n",
       "      <td>0.00</td>\n",
       "      <td>0</td>\n",
       "    </tr>\n",
       "  </tbody>\n",
       "</table>\n",
       "</div>"
      ],
      "text/plain": [
       "   CustomerID  Recency  Frequency  Monetary  cluster\n",
       "0       12346        6        0.0      0.00        0\n",
       "1       12347        0        4.0     25.37        2\n",
       "2       12348        3        1.0    103.33        2\n",
       "3       12349        1        1.0     24.08        2\n",
       "4       12350        6        0.0      0.00        0"
      ]
     },
     "execution_count": 18,
     "metadata": {},
     "output_type": "execute_result"
    }
   ],
   "source": [
    "kmeans_kwargs = {\n",
    "    \"init\" : \"random\",\n",
    "    \"n_init\" : 10\n",
    "}\n",
    "# run kmeans with the optimal k\n",
    "kmeans = KMeans(n_clusters=3, **kmeans_kwargs)\n",
    "kmeans.fit(standardized_data[feature_cols])\n",
    "data['cluster'] = kmeans.labels_\n",
    "data.head()"
   ]
  },
  {
   "cell_type": "markdown",
   "id": "e34bec7d",
   "metadata": {},
   "source": [
    "### Results Analysis\n",
    "Our work is not yet over. We must interpret the clusters after they have been collected. To that end, we can summarize the obtained clusters by displaying their R-F-M centroid values as well as the number of users in each cluster.\n",
    "\n",
    "Why centroid values? Because we may consider the values to be the representative of each obtained cluster. As a result, we can use these values to interpret the overall behavior/characteristics of users that belong to a specific cluster in terms of the corresponding user aspect (R/F/M)."
   ]
  },
  {
   "cell_type": "code",
   "execution_count": 19,
   "id": "4b5c7a15",
   "metadata": {},
   "outputs": [
    {
     "data": {
      "text/html": [
       "<div>\n",
       "<style scoped>\n",
       "    .dataframe tbody tr th:only-of-type {\n",
       "        vertical-align: middle;\n",
       "    }\n",
       "\n",
       "    .dataframe tbody tr th {\n",
       "        vertical-align: top;\n",
       "    }\n",
       "\n",
       "    .dataframe thead th {\n",
       "        text-align: right;\n",
       "    }\n",
       "</style>\n",
       "<table border=\"1\" class=\"dataframe\">\n",
       "  <thead>\n",
       "    <tr style=\"text-align: right;\">\n",
       "      <th></th>\n",
       "      <th>cluster</th>\n",
       "      <th>Recency</th>\n",
       "      <th>Frequency</th>\n",
       "      <th>Monetary</th>\n",
       "      <th>NumBuyers</th>\n",
       "    </tr>\n",
       "  </thead>\n",
       "  <tbody>\n",
       "    <tr>\n",
       "      <th>0</th>\n",
       "      <td>0</td>\n",
       "      <td>5.555718</td>\n",
       "      <td>0.493402</td>\n",
       "      <td>24.198798</td>\n",
       "      <td>1364</td>\n",
       "    </tr>\n",
       "    <tr>\n",
       "      <th>1</th>\n",
       "      <td>1</td>\n",
       "      <td>0.000000</td>\n",
       "      <td>1.000000</td>\n",
       "      <td>168469.600000</td>\n",
       "      <td>1</td>\n",
       "    </tr>\n",
       "    <tr>\n",
       "      <th>2</th>\n",
       "      <td>2</td>\n",
       "      <td>1.291625</td>\n",
       "      <td>3.381433</td>\n",
       "      <td>32.123858</td>\n",
       "      <td>2973</td>\n",
       "    </tr>\n",
       "  </tbody>\n",
       "</table>\n",
       "</div>"
      ],
      "text/plain": [
       "   cluster   Recency  Frequency       Monetary  NumBuyers\n",
       "0        0  5.555718   0.493402      24.198798       1364\n",
       "1        1  0.000000   1.000000  168469.600000          1\n",
       "2        2  1.291625   3.381433      32.123858       2973"
      ]
     },
     "execution_count": 19,
     "metadata": {},
     "output_type": "execute_result"
    }
   ],
   "source": [
    "# look at the centroids per cluster\n",
    "centroid_df = data.groupby('cluster')[['Recency', 'Frequency', 'Monetary','CustomerID']].agg({'Recency': 'mean', 'Frequency': 'mean', 'Monetary':'mean','CustomerID':'nunique'}).reset_index()\n",
    "centroid_df = centroid_df.rename(columns = {'CustomerID':'NumBuyers'})\n",
    "centroid_df"
   ]
  },
  {
   "cell_type": "markdown",
   "id": "07903f77",
   "metadata": {},
   "source": [
    "### According to the table above, we have three user clusters/segments:\n",
    "\n",
    "#### Cluster 2: \n",
    "Our top segment of users. Users in this category are recent/current regular buyers (recency low, frequency high). Their most recent transaction was only a few days ago, with a frequency of 26 transactions in the previous six months. Unfortunately, there are just a handful of them (66 users, equivalent to 1.5 percent of all user base).\n",
    "\n",
    "#### Cluster 0: \n",
    "Our churned segment of users. Users in this category are our opt-out customers (recency high [note this is a bad thing], frequency low). Their last transaction was more than five months ago, with just 0 or 1 transaction in the previous six months! They are also, unfortunately, many (1364 users, equivalent to 31.5 percent of all user base).\n",
    "\n",
    "#### Cluster 1: \n",
    "Our casual segment of users. Users in this category are our regular customers (modest on both recency and frequency). Their most recent transaction was within the last two months, with a frequency of up to three transactions in the previous six months. They are, as is widely observed, the largest portion of our user base (2908 users, equivalent to 67 percent of all user base)"
   ]
  },
  {
   "cell_type": "code",
   "execution_count": 20,
   "id": "0dcc2234",
   "metadata": {},
   "outputs": [
    {
     "data": {
      "text/html": [
       "<div>\n",
       "<style scoped>\n",
       "    .dataframe tbody tr th:only-of-type {\n",
       "        vertical-align: middle;\n",
       "    }\n",
       "\n",
       "    .dataframe tbody tr th {\n",
       "        vertical-align: top;\n",
       "    }\n",
       "\n",
       "    .dataframe thead th {\n",
       "        text-align: right;\n",
       "    }\n",
       "</style>\n",
       "<table border=\"1\" class=\"dataframe\">\n",
       "  <thead>\n",
       "    <tr style=\"text-align: right;\">\n",
       "      <th></th>\n",
       "      <th>Recency</th>\n",
       "      <th>Frequency</th>\n",
       "      <th>Monetary</th>\n",
       "      <th>NumBuyers</th>\n",
       "      <th>ClusterName</th>\n",
       "    </tr>\n",
       "  </thead>\n",
       "  <tbody>\n",
       "    <tr>\n",
       "      <th>0</th>\n",
       "      <td>5.555718</td>\n",
       "      <td>0.493402</td>\n",
       "      <td>24.198798</td>\n",
       "      <td>1364</td>\n",
       "      <td>Casul Buyers</td>\n",
       "    </tr>\n",
       "    <tr>\n",
       "      <th>1</th>\n",
       "      <td>0.000000</td>\n",
       "      <td>1.000000</td>\n",
       "      <td>168469.600000</td>\n",
       "      <td>1</td>\n",
       "      <td>Churned Buyers</td>\n",
       "    </tr>\n",
       "    <tr>\n",
       "      <th>2</th>\n",
       "      <td>1.291625</td>\n",
       "      <td>3.381433</td>\n",
       "      <td>32.123858</td>\n",
       "      <td>2973</td>\n",
       "      <td>Top Buyers</td>\n",
       "    </tr>\n",
       "  </tbody>\n",
       "</table>\n",
       "</div>"
      ],
      "text/plain": [
       "    Recency  Frequency       Monetary  NumBuyers     ClusterName\n",
       "0  5.555718   0.493402      24.198798       1364    Casul Buyers\n",
       "1  0.000000   1.000000  168469.600000          1  Churned Buyers\n",
       "2  1.291625   3.381433      32.123858       2973      Top Buyers"
      ]
     },
     "execution_count": 20,
     "metadata": {},
     "output_type": "execute_result"
    }
   ],
   "source": [
    "# give high-level name for each cluster\n",
    "centroid_df.pop('cluster')\n",
    "\n",
    "cluster_names = ['Casul Buyers','Churned Buyers','Top Buyers']\n",
    "centroid_df['ClusterName'] = cluster_names\n",
    "\n",
    "centroid_df"
   ]
  },
  {
   "cell_type": "markdown",
   "id": "c6726458",
   "metadata": {},
   "source": [
    "### Actionable steps\n",
    "\n",
    "We will create a customized promotion strategy for each cluster based on the understanding of the above clusters, as follows:\n",
    "\n",
    "#### Top buyers: \n",
    "There is no need to overwhelm them with vouchers/promotions (this saves us money), but we can optimize/leverage some kind of loyalty points to keep them around.\n",
    "\n",
    "#### Casual buyers: \n",
    "We need to increase the frequency and monetary value of this segment. We can accomplish this by providing vouchers in the form of cashback (to enable repeat purchases), with a high eligibility threshold (e.g., the voucher is only valid for transaction amount at least 50 Pounds).\n",
    "\n",
    "#### Churned buyers: \n",
    "Our top priority is to get them transacting with us again after they’ve been churned for a while. To encourage them to do so, we could offer one or two large-benefit vouchers. This goes hand in hand with a steady stream of push notifications."
   ]
  }
 ],
 "metadata": {
  "kernelspec": {
   "display_name": "Python 3 (ipykernel)",
   "language": "python",
   "name": "python3"
  },
  "language_info": {
   "codemirror_mode": {
    "name": "ipython",
    "version": 3
   },
   "file_extension": ".py",
   "mimetype": "text/x-python",
   "name": "python",
   "nbconvert_exporter": "python",
   "pygments_lexer": "ipython3",
   "version": "3.8.8"
  }
 },
 "nbformat": 4,
 "nbformat_minor": 5
}
